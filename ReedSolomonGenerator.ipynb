{
 "cells": [
  {
   "cell_type": "code",
   "execution_count": 1,
   "metadata": {},
   "outputs": [],
   "source": [
    "import gf as primpoly\n",
    "import numpy as np"
   ]
  },
  {
   "cell_type": "code",
   "execution_count": 2,
   "metadata": {},
   "outputs": [],
   "source": [
    "class GaloisField:\n",
    "        \n",
    "    def add(self,x, y):\n",
    "        return x ^ y\n",
    "\n",
    "    def sub(self,x, y):\n",
    "        # in binary galois field, subtraction is just the same as addition (since we mod 2)\n",
    "        return x ^ y \n",
    "    \n",
    "    def mul(self,x, y):\n",
    "        if x==0 or y==0:\n",
    "            return 0\n",
    "        return self.exp[(self.log[x] + self.log[y]) % (self.length-1)]\n",
    "\n",
    "    def div(self,x,y):\n",
    "        if y==0:\n",
    "            raise ZeroDivisionError()\n",
    "        if x==0:\n",
    "            return 0\n",
    "        return self.exp[(self.log[x] + (self.length-1) - self.log[y]) % (self.length-1)]\n",
    "\n",
    "    def gf_pow(self, x, power):\n",
    "        return self.exp[(self.log[x] * power) % (self.length-1)]\n",
    "    \n",
    "    def gf_inverse(self, x):\n",
    "        return self.exp[(self.length-1) - self.log[x]]\n",
    "    \n",
    "    def conv(self,a,b):\n",
    "        if (len(b) > len(a)):\n",
    "            temp = a\n",
    "            a = b\n",
    "            b = temp\n",
    "\n",
    "        a_pad = [*([0]*(len(b)-1)), *a, *([0]*(len(b)-1))]\n",
    "        b_rev = list(reversed(b))\n",
    "\n",
    "        res = [0]*(len(a_pad)-1)\n",
    "\n",
    "        for i in range(0,len(a_pad)-len(b)+1):\n",
    "            partial_sum = 0\n",
    "            for j in range(0,len(b)):\n",
    "                partial_sum = self.add(partial_sum,self.mul(a_pad[i+j],b[j]))\n",
    "            res[i] = partial_sum\n",
    "\n",
    "        return res\n",
    "    \n",
    "    def init_tables(self):\n",
    "        \n",
    "        '''Precompute the logarithm and anti-log tables for faster computation later, \n",
    "           using the provided primitive polynomial.'''\n",
    "        # prim is the primitive (binary) polynomial. Since it's a polynomial in the binary sense,\n",
    "        # it's only in fact a single galois field value between 0 and 255, and not a list of gf values.\n",
    "        \n",
    "        m = self.order\n",
    "        prim = self.prim\n",
    "        gf_length = self.length\n",
    "        gf_exp = [0] * gf_length # anti-log (exponential) table\n",
    "        gf_log = [0] * gf_length # log table\n",
    "        # For each possible value in the galois field 2^8, \n",
    "        # we will pre-compute the logarithm and anti-logarithm (exponential) of this value\n",
    "        x = 1\n",
    "        for i in range(0, gf_length-1):\n",
    "            gf_exp[i] = x # compute anti-log for this value and store it in a table\n",
    "            gf_log[x] = i # compute log at the same time\n",
    "\n",
    "            x <<= 1 # multiply by 2 (change 1 by another number y to multiply by a power of 2^y)\n",
    "            if x >= gf_length:\n",
    "                # substract the primary polynomial to the current value \n",
    "                # (instead of Galois Field length, so that we get a unique set made of coprime numbers), \n",
    "                # this is the core of the tables generation\n",
    "                x ^= prim \n",
    "                \n",
    "        return [gf_log, gf_exp]\n",
    "    \n",
    "    def det(self, matrix, mul = 1):\n",
    "        '''Recursively computes the determinant of a square matrix in Galois Field'''\n",
    "        \n",
    "        width = len(matrix)\n",
    "        if width == 1:\n",
    "            return self.mul(mul, matrix[0][0])\n",
    "        else:\n",
    "            total = 0\n",
    "            for i in range(width):\n",
    "                m = []\n",
    "                for j in range(1, width):\n",
    "                    buff = []\n",
    "                    for k in range(width):\n",
    "                        if k != i:\n",
    "                            buff.append(matrix[j][k])\n",
    "                    m.append(buff)\n",
    "                total = self.add(total, self.mul(mul, self.det(m, matrix[0][i])))\n",
    "            return total\n",
    "    \n",
    "    def solveLinearSystem(self, matrix, array):\n",
    "        '''Solves a linear system in Galois Field using Cramer's rule and \n",
    "           returns the answer to array ans[]''' \n",
    "        \n",
    "        ans = []\n",
    "        for i in range(0, len(matrix)):\n",
    "            \n",
    "            # We need to use deepcopy because temp = matrix returns a pointer to matrix\n",
    "            # and all changes to temp also affect matrix\n",
    "            temp = deepcopy(matrix)\n",
    "            \n",
    "            # We iteratively substitute each column of the matrix with the array\n",
    "            # and the compute its determinant in the Galois Field\n",
    "            for j in range(0, len(array)):\n",
    "                temp[j][i] = array[j]\n",
    "\n",
    "            ans.append(self.div(S.det(temp), self.det(matrix)))\n",
    "        return ans\n",
    "    \n",
    "                \n",
    "    def __init__(self, x, m, d):\n",
    "        self.element = x\n",
    "        self.order = m\n",
    "        self.prim = d\n",
    "        self.length = 2**m\n",
    "        [self.log, self.exp] = self.init_tables()"
   ]
  },
  {
   "cell_type": "code",
   "execution_count": 3,
   "metadata": {},
   "outputs": [],
   "source": [
    "t = 10 # maximum number of erroneous symbols that can be corrected\n",
    "m = 4 # order of Galois Field\n",
    "n = 2**m -1 # length of Galois Field\n",
    "d = primpoly.find_prime_polys(2,m,single=True) \n",
    "a = GaloisField(2,m,d) # primitive element of Galois Field"
   ]
  },
  {
   "cell_type": "code",
   "execution_count": 4,
   "metadata": {},
   "outputs": [
    {
     "name": "stdout",
     "output_type": "stream",
     "text": [
      "Generator polynomial of Reed Solomon code with m = 4 and t = 10:\n",
      "[1, 12, 1, 4, 15, 7, 0, 0, 0, 0, 0, 0, 0, 0, 0, 1, 12, 1, 4, 15, 7]\n"
     ]
    }
   ],
   "source": [
    "# Compute the generator polynomial of the Reed Solomon code using convolution\n",
    "# The first coefficient corresponds to x^(2t)\n",
    "p = 0\n",
    "g = GaloisField([1, a.gf_pow(a.element, p)], m, d)\n",
    "for i in range(p+1,p+2*t):\n",
    "    g.element = g.conv(g.element, [1, a.gf_pow(a.element, i)])\n",
    "    \n",
    "print(\"Generator polynomial of Reed Solomon code with m = {} and t = {}:\\n{}\".format(m,t,list(reversed(g.element))))"
   ]
  },
  {
   "cell_type": "code",
   "execution_count": 5,
   "metadata": {},
   "outputs": [
    {
     "name": "stdout",
     "output_type": "stream",
     "text": [
      "The non zero elements of GF(2^4) are:\n",
      "a^0 = 1\n",
      "a^1 = 2\n",
      "a^2 = 4\n",
      "a^3 = 8\n",
      "a^4 = 3\n",
      "a^5 = 6\n",
      "a^6 = 12\n",
      "a^7 = 11\n",
      "a^8 = 5\n",
      "a^9 = 10\n",
      "a^10 = 7\n",
      "a^11 = 14\n",
      "a^12 = 15\n",
      "a^13 = 13\n",
      "a^14 = 9\n"
     ]
    }
   ],
   "source": [
    "field_el = GaloisField([],m,d)\n",
    "for j in range(0,n):\n",
    "    field_el.element.append(a.gf_pow(a.element,j))\n",
    "    \n",
    "print(\"The non zero elements of GF(2^{}) are:\".format(m))\n",
    "for j in range(0,n):\n",
    "    print (\"a^{} = {}\".format(j,field_el.element[j]))"
   ]
  },
  {
   "cell_type": "code",
   "execution_count": 6,
   "metadata": {},
   "outputs": [
    {
     "name": "stdout",
     "output_type": "stream",
     "text": [
      "Exponents of a to which each coefficient of the generator polynomial corresponds to:\n",
      "[0, 6, 0, 2, 12, 10, 0, 0, 0, 0, 0, 0, 0, 0, 0, 0, 6, 0, 2, 12, 10]\n"
     ]
    }
   ],
   "source": [
    "# Find which elements a^i are included in the generator polynomial\n",
    "power = np.zeros(len(g.element),dtype=int)\n",
    "for i in range(0,len(g.element)):\n",
    "    for j in range(0,n):\n",
    "        if (g.element[i] == field_el.element[j]):\n",
    "            power[i] = j\n",
    "            \n",
    "print(\"Exponents of a to which each coefficient of the generator polynomial corresponds to:\\n{}\".format(list(reversed(power))))"
   ]
  },
  {
   "cell_type": "code",
   "execution_count": null,
   "metadata": {},
   "outputs": [],
   "source": []
  }
 ],
 "metadata": {
  "kernelspec": {
   "display_name": "Python 3",
   "language": "python",
   "name": "python3"
  },
  "language_info": {
   "codemirror_mode": {
    "name": "ipython",
    "version": 3
   },
   "file_extension": ".py",
   "mimetype": "text/x-python",
   "name": "python",
   "nbconvert_exporter": "python",
   "pygments_lexer": "ipython3",
   "version": "3.6.4"
  }
 },
 "nbformat": 4,
 "nbformat_minor": 2
}
