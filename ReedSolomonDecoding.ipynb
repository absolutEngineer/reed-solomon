{
 "cells": [
  {
   "cell_type": "code",
   "execution_count": 1,
   "metadata": {},
   "outputs": [],
   "source": [
    "import gf as primpoly\n",
    "import numpy as np\n",
    "from copy import deepcopy"
   ]
  },
  {
   "cell_type": "code",
   "execution_count": 2,
   "metadata": {},
   "outputs": [],
   "source": [
    "class GaloisField:\n",
    "        \n",
    "    def add(self,x, y):\n",
    "        return x ^ y\n",
    "\n",
    "    def sub(self,x, y):\n",
    "        # in binary galois field, subtraction is just the same as addition (since we mod 2)\n",
    "        return x ^ y \n",
    "    \n",
    "    def mul(self,x, y):\n",
    "        if x==0 or y==0:\n",
    "            return 0\n",
    "        return self.exp[(self.log[x] + self.log[y]) % (self.length-1)]\n",
    "\n",
    "    def div(self,x,y):\n",
    "        if y==0:\n",
    "            raise ZeroDivisionError()\n",
    "        if x==0:\n",
    "            return 0\n",
    "        return self.exp[(self.log[x] + (self.length-1) - self.log[y]) % (self.length-1)]\n",
    "\n",
    "    def gf_pow(self, x, power):\n",
    "        return self.exp[(self.log[x] * power) % (self.length-1)]\n",
    "    \n",
    "    def gf_inverse(self, x):\n",
    "        return self.exp[(self.length-1) - self.log[x]]\n",
    "    \n",
    "    def conv(self, a, b):\n",
    "        if (len(b) > len(a)):\n",
    "            temp = a\n",
    "            a = b\n",
    "            b = temp\n",
    "\n",
    "        a_pad = [*([0]*(len(b)-1)), *a, *([0]*(len(b)-1))]\n",
    "        b_rev = list(reversed(b))\n",
    "\n",
    "        res = [0]*(len(a_pad)-1)\n",
    "\n",
    "        for i in range(0,len(a_pad)-len(b)+1):\n",
    "            partial_sum = 0\n",
    "            for j in range(0,len(b)):\n",
    "                partial_sum = self.add(partial_sum,self.mul(a_pad[i+j],b[j]))\n",
    "            res[i] = partial_sum\n",
    "\n",
    "        return res\n",
    "    \n",
    "    def init_tables(self):\n",
    "        \n",
    "        '''Precompute the logarithm and anti-log tables for faster computation later, \n",
    "           using the provided primitive polynomial.'''\n",
    "        # prim is the primitive (binary) polynomial. Since it's a polynomial in the binary sense,\n",
    "        # it's only in fact a single galois field value between 0 and 255, and not a list of gf values.\n",
    "        \n",
    "        m = self.order\n",
    "        prim = self.prim\n",
    "        gf_length = self.length\n",
    "        gf_exp = [0] * gf_length # anti-log (exponential) table\n",
    "        gf_log = [0] * gf_length # log table\n",
    "        # For each possible value in the galois field 2^8, \n",
    "        # we will pre-compute the logarithm and anti-logarithm (exponential) of this value\n",
    "        x = 1\n",
    "        for i in range(0, gf_length-1):\n",
    "            gf_exp[i] = x # compute anti-log for this value and store it in a table\n",
    "            gf_log[x] = i # compute log at the same time\n",
    "\n",
    "            x <<= 1 # multiply by 2 (change 1 by another number y to multiply by a power of 2^y)\n",
    "            if x >= gf_length:\n",
    "                # substract the primary polynomial to the current value \n",
    "                # (instead of Galois Field length, so that we get a unique set made of coprime numbers), \n",
    "                # this is the core of the tables generation\n",
    "                x ^= prim \n",
    "                \n",
    "        return [gf_log, gf_exp]\n",
    "    \n",
    "    def det(self, matrix, mul = 1):\n",
    "        '''Recursively computes the determinant of a square matrix in Galois Field'''\n",
    "        \n",
    "        width = len(matrix)\n",
    "        if width == 1:\n",
    "            return self.mul(mul, matrix[0][0])\n",
    "        else:\n",
    "            total = 0\n",
    "            for i in range(width):\n",
    "                m = []\n",
    "                for j in range(1, width):\n",
    "                    buff = []\n",
    "                    for k in range(width):\n",
    "                        if k != i:\n",
    "                            buff.append(matrix[j][k])\n",
    "                    m.append(buff)\n",
    "                total = self.add(total, self.mul(mul, self.det(m, matrix[0][i])))\n",
    "            return total\n",
    "    \n",
    "    def solveLinearSystem(self, matrix, array):\n",
    "        '''Solves a linear system in Galois Field using Cramer's rule and \n",
    "           returns the answer to array ans[]''' \n",
    "        \n",
    "        ans = []\n",
    "        for i in range(0, len(matrix)):\n",
    "            \n",
    "            # We need to use deepcopy because temp = matrix returns a pointer to matrix\n",
    "            # and all changes to temp also affect matrix\n",
    "            temp = deepcopy(matrix)\n",
    "            \n",
    "            # We iteratively substitute each column of the matrix with the array\n",
    "            # and the compute its determinant in the Galois Field\n",
    "            for j in range(0, len(array)):\n",
    "                temp[j][i] = array[j]\n",
    "\n",
    "            ans.append(self.div(S.det(temp), self.det(matrix)))\n",
    "        return ans\n",
    "    \n",
    "                \n",
    "    def __init__(self, x, m, d):\n",
    "        '''Class initialization method'''\n",
    "        \n",
    "        self.element = x\n",
    "        self.order = m\n",
    "        self.prim = d\n",
    "        self.length = 2**m\n",
    "        [self.log, self.exp] = self.init_tables()\n",
    "        "
   ]
  },
  {
   "cell_type": "markdown",
   "metadata": {},
   "source": [
    "# Reed Solomon Decoding "
   ]
  },
  {
   "cell_type": "markdown",
   "metadata": {},
   "source": [
    "First, the original all-zero bitstream $u(x) = u_0 + u_1x + \\cdots + u_{n-1}x^{n-1}$ is generated and it gets corrupted with a random error $e(x) = e_0 + e_1x + \\cdots + e_{n-1}x^{n-1}$. The received bitstream is split in symbols of m bits to create the $r(x) = u(x) + e(x) = r_0 + r_1x + \\cdots + r_{n-1}x^{n-1}$ polynomial. The syndrom $S$ is then calculated using the formula $S_i = r(\\alpha^i)$. We assume that there are $\\nu$ errors at positions $j_1, j_2, \\cdots, j_{\\nu}$ of the polynomial $e(x)$. Let $\\beta_i = \\alpha^{j_i}$ and t the number of erroneous symbols that can be corrected, so that the syndroms are calculated as:\n",
    "\n",
    "$\\begin{array}\n",
    "\\text S_1 = r(\\alpha) = e_{j_1}\\beta_1 + e_{j_2}\\beta_2 + \\cdots + e_{j_{\\nu}}\\beta_{\\nu} \\\\\n",
    "\\text S_2 = r(\\alpha^2) = e_{j_1}{\\beta_1}^2 + e_{j_2}{\\beta_2}^2 + \\cdots + e_{j_{\\nu}}{\\beta_{\\nu}}^2 \\\\\n",
    "\\vdots \\\\\n",
    "\\text S_{2t} = r(\\alpha^{2t}) = e_{j_1}{\\beta_1}^{2t} + e_{j_2}{\\beta_2}^{2t} + \\cdots + e_{j_{\\nu}}{\\beta_{\\nu}}^{2t} \\\\\n",
    "\\end{array}$\n",
    "\n",
    "The polynomial $\\sigma(x)$ is computed using an autoregressive model. We make a matrix from the syndroms, where the first t syndroms are used to predict the next syndrome. The matrix is contructed as shown below:\n",
    "\n",
    "$\\begin{bmatrix} \n",
    "S_1 & S_2 & \\cdots & S_{t-1} & S_t \\\\\n",
    "S_2 & S_3 & \\cdots & S_t & S_{t+1} \\\\\n",
    "&& \\vdots \\\\\n",
    "S_{t-1} & S_t & \\cdots & S_{2t-3} & S_{2t-2} \\\\\n",
    "S_t & S_{t+1} & \\cdots & S_{2t-2} & S_{2t-1} \\\\\n",
    "\\end{bmatrix} \n",
    " * \n",
    "\\begin{bmatrix}\n",
    "\\sigma_t\\\\\n",
    "\\sigma_{t-1}\\\\\n",
    "\\vdots\\\\\n",
    "\\sigma_2\\\\\n",
    "\\sigma_1\\\\\n",
    "\\end{bmatrix}\n",
    " = \n",
    "\\begin{bmatrix}\n",
    "-S_{t+1}\\\\\n",
    "-S_{t+2}\\\\\n",
    "\\vdots\\\\\n",
    "-S_{2t-1}\\\\\n",
    "-S_{2t}\\\\\n",
    "\\end{bmatrix}$\n",
    "\n",
    "Then the value of the errors $e_{j_1}$ can be calculated by solving any t of the equatations written above:\n",
    "\n",
    "$\\begin{bmatrix} \n",
    "\\beta_1 & \\beta_2 & \\cdots & \\beta_{\\nu-1} & \\beta_{\\nu} \\\\\n",
    "{\\beta_1}^2 & {\\beta_2}^2 & \\cdots & {\\beta_{\\nu-1}}^2 & {\\beta_{\\nu}}^2 \\\\\n",
    "&& \\vdots \\\\\n",
    "{\\beta_1}^t & {\\beta_2}^t & \\cdots & {\\beta_{\\nu-1}}^t & {\\beta_{\\nu}}^t \\\\\n",
    "\\end{bmatrix} \n",
    " * \n",
    "\\begin{bmatrix}\n",
    "e_{j_1}\\\\\n",
    "e_{j_2}\\\\\n",
    "\\vdots\\\\\n",
    "e_{j_t}\\\\\n",
    "\\end{bmatrix}\n",
    " = \n",
    "\\begin{bmatrix}\n",
    "S_1\\\\\n",
    "S_2\\\\\n",
    "\\vdots\\\\\n",
    "S_t\\\\\n",
    "\\end{bmatrix}$\n",
    "\n",
    "Finally, the original message can be retreived by adding the errors to the received signal"
   ]
  },
  {
   "cell_type": "code",
   "execution_count": 3,
   "metadata": {},
   "outputs": [
    {
     "name": "stdout",
     "output_type": "stream",
     "text": [
      "Prime polynomial of GF(2^4) in binary form: 0b10011\n"
     ]
    }
   ],
   "source": [
    "t = 3 # maximum number of erroneous symbols that can be corrected\n",
    "m = 4 # order of the Galois Field\n",
    "n = 2**m - 1\n",
    "d = primpoly.find_prime_polys(2,m,single=True)\n",
    "\n",
    "print(\"Prime polynomial of GF(2^{}) in binary form: {}\".format(m, bin(d)))\n",
    "\n",
    "# The first non-zero, non-one element of the Galois Field\n",
    "a = GaloisField(2,m,d)"
   ]
  },
  {
   "cell_type": "code",
   "execution_count": 4,
   "metadata": {},
   "outputs": [
    {
     "name": "stdout",
     "output_type": "stream",
     "text": [
      "Position of the corrupted bits:  [43 35  1]\n",
      "The corrupted message symbols in decimal form are:  [4 0 0 0 0 0 0 0 1 0 1 0 0 0 0]\n"
     ]
    }
   ],
   "source": [
    "# Generate an all-zero codeword of length n*m bits and deliberate corrupt some bits, \n",
    "# whose locations are specified in e_pos array\n",
    "\n",
    "rb = np.zeros(m*n, dtype = int)\n",
    "\n",
    "# Damage a number of random bits\n",
    "err_num = 3  # Caution: If more than t symbols get damaged, Reed Solomon decoding fails \n",
    "e_pos = np.random.randint(0, n*m, err_num, dtype=int)\n",
    "print(\"Position of the corrupted bits: \", e_pos)\n",
    "\n",
    "# Else corrupt specific bits (for debugging purposes)\n",
    "# e_pos = np.array([12, 13, 15, 27, 48, 49])\n",
    "# e_pos = np.array([12,13,14,25,26,52,54])\n",
    "\n",
    "for i in range(0,len(e_pos)):\n",
    "    rb[e_pos[i]] = not(rb[e_pos[i]])\n",
    "\n",
    "# Split the message in symbols of length m bits\n",
    "rm = np.zeros(len(rb)//m, dtype=int)\n",
    "for i in range(0,len(rb)//m):\n",
    "    for j in range (0,m):\n",
    "        rm[i] = (rm[i] << 1) + rb[i*m+j]\n",
    "\n",
    "print(\"The corrupted message symbols in decimal form are: \",rm)\n",
    "r = GaloisField(rm,m,d)"
   ]
  },
  {
   "cell_type": "code",
   "execution_count": 5,
   "metadata": {},
   "outputs": [
    {
     "name": "stdout",
     "output_type": "stream",
     "text": [
      "The syndrom of the message is: [13, 11, 14, 5, 8, 8]\n"
     ]
    }
   ],
   "source": [
    "# Calculate syndroms in array s\n",
    "# s[i] = r(a^i) for i = 1...2t where r(x) the currupted message in polynomial form\n",
    "\n",
    "s = GaloisField([],m,d)\n",
    "for i in range(0,2*t):\n",
    "    s.element.append(r.element[n-1])\n",
    "    for j in range(0, n-1):\n",
    "        temp = GaloisField(2,m,d)\n",
    "        temp.element = a.gf_pow(a.element,i+1)\n",
    "        temp.element = temp.gf_pow(temp.element, j+1)\n",
    "        s.element[i] = s.add(s.element[i],temp.mul(temp.element, r.element[n-j-2]))\n",
    "    \n",
    "print(\"The syndrom of the message is:\", s.element)"
   ]
  },
  {
   "cell_type": "code",
   "execution_count": 6,
   "metadata": {
    "scrolled": true
   },
   "outputs": [
    {
     "name": "stdout",
     "output_type": "stream",
     "text": [
      "S\t\t sigma\t cons_s\n",
      "[13 11 14] \t 10 \t 5\n",
      "[11 14  5] \t 9 \t 8\n",
      "[14  5  8] \t 6 \t 8\n"
     ]
    }
   ],
   "source": [
    "# Compute sigma polynomial using auto-regression method\n",
    "# by solving the linear system S*sigma = cons_s\n",
    "\n",
    "S = GaloisField(np.zeros([t, t], dtype=int),m,d)\n",
    "cons_s = GaloisField(np.zeros(t, dtype=int),m,d)\n",
    "for i in range(0,t):\n",
    "    for j in range(0,t):\n",
    "        S.element[i][j] = s.element[i+j]\n",
    "    cons_s.element[i] = s.element[t+i]\n",
    "\n",
    "if (S.det(S.element) == 0):\n",
    "    print(\"The syndrom cannot be defined, because det(S) == 0\")\n",
    "else:\n",
    "    sigma = S.solveLinearSystem(S.element, cons_s.element)\n",
    "\n",
    "    print(\"S\\t\\t sigma\\t cons_s\")\n",
    "    for i in range(0, len(S.element)):\n",
    "        print(S.element[i][:], \"\\t\", sigma[i], \"\\t\", cons_s.element[i])"
   ]
  },
  {
   "cell_type": "code",
   "execution_count": 7,
   "metadata": {},
   "outputs": [
    {
     "name": "stdout",
     "output_type": "stream",
     "text": [
      "[1, 9, 11]\n"
     ]
    }
   ],
   "source": [
    "# Find roots of sigma polynomial\n",
    "s_roots_exp = []\n",
    "for i in range(0, n-1):\n",
    "    # Compute the value of polynomial sigma where x -> a^i for i = 0...n-1\n",
    "    ai = a.gf_pow(a.element, i+1)\n",
    "    sr = GaloisField(1, m, d)\n",
    "    \n",
    "    # Construct polynomial from coefficients stored in array sigma[]\n",
    "    # (the highest order coefficient is stored in sigma[0])\n",
    "    for j in range(0, t):\n",
    "        temp = a.mul(sigma[j],a.gf_pow(ai,t-j))\n",
    "        sr.element = sr.add(sr.element,temp)\n",
    "    \n",
    "    if (sr.element == 0):\n",
    "        # s_roots_exp contains the powers of a for which sigma(a^i) == 0\n",
    "        s_roots_exp.append(i+1)\n",
    "        \n",
    "print(s_roots_exp)"
   ]
  },
  {
   "cell_type": "code",
   "execution_count": 8,
   "metadata": {},
   "outputs": [
    {
     "name": "stdout",
     "output_type": "stream",
     "text": [
      "Symbols with errors are:  [1, 9, 11]\n"
     ]
    }
   ],
   "source": [
    "# The error positions can be found by inversing the roots of sigma polynomial\n",
    "\n",
    "b = []\n",
    "err_pos = []\n",
    "for i in range(0, len(s_roots_exp)):\n",
    "    root = a.gf_pow(a.element, s_roots_exp[i])\n",
    "    b.append(a.gf_inverse(root))\n",
    "    \n",
    "    # Find error positions form most significant bit\n",
    "    err_pos.append(n - a.log[b[i]])\n",
    "    \n",
    "print(\"Symbols with errors are: \", err_pos)"
   ]
  },
  {
   "cell_type": "code",
   "execution_count": 9,
   "metadata": {},
   "outputs": [
    {
     "name": "stdout",
     "output_type": "stream",
     "text": [
      "B\t\t err\t cons_b\n",
      "[ 9 12  3] \t 4 \t 13\n",
      "[13 15  5] \t 1 \t 11\n",
      "[15  8 15] \t 1 \t 14\n"
     ]
    }
   ],
   "source": [
    "# Having found the erroneous symbols, we need to determine the value of each error\n",
    "# We solve the linear system B = err * cons_b\n",
    "\n",
    "B = GaloisField([],m,d)\n",
    "cons_b = GaloisField([],m,d)\n",
    "for i in range(0,t):\n",
    "    \n",
    "    for j in range(0,t):\n",
    "        B.element.append(B.gf_pow(b[j],i+1))\n",
    "\n",
    "    cons_b.element.append(s.element[i])\n",
    "\n",
    "B.element = np.reshape(B.element, [t, len(B.element)//t])\n",
    "err = B.solveLinearSystem(B.element, cons_b.element)\n",
    "\n",
    "print(\"B\\t\\t err\\t cons_b\")\n",
    "for i in range(0, len(S.element)):\n",
    "    print(B.element[i][:], \"\\t\", err[i], \"\\t\", cons_b.element[i])"
   ]
  },
  {
   "cell_type": "code",
   "execution_count": 10,
   "metadata": {},
   "outputs": [
    {
     "name": "stdout",
     "output_type": "stream",
     "text": [
      "Corrupted message: [4 0 0 0 0 0 0 0 1 0 1 0 0 0 0]\n",
      "Corrected message: [0 0 0 0 0 0 0 0 0 0 0 0 0 0 0]\n"
     ]
    }
   ],
   "source": [
    "# The corrupted can be fixed by subtracting the error values of err array\n",
    "# from the erroneous symbols as specified in err_pos array\n",
    "\n",
    "corrected = GaloisField([], m, d)\n",
    "corrected.element = deepcopy(r.element)\n",
    "for i in range(0, len(err)):\n",
    "    corrected.element[err_pos[i]-1] = corrected.add(r.element[err_pos[i]-1], err[i])\n",
    "    \n",
    "print(\"Corrupted message:\", r.element)\n",
    "print(\"Corrected message:\", corrected.element)"
   ]
  },
  {
   "cell_type": "code",
   "execution_count": null,
   "metadata": {},
   "outputs": [],
   "source": []
  }
 ],
 "metadata": {
  "kernelspec": {
   "display_name": "Python 3",
   "language": "python",
   "name": "python3"
  },
  "language_info": {
   "codemirror_mode": {
    "name": "ipython",
    "version": 3
   },
   "file_extension": ".py",
   "mimetype": "text/x-python",
   "name": "python",
   "nbconvert_exporter": "python",
   "pygments_lexer": "ipython3",
   "version": "3.6.4"
  }
 },
 "nbformat": 4,
 "nbformat_minor": 2
}
